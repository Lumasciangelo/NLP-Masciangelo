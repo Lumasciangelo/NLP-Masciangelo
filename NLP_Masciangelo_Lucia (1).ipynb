{
  "nbformat": 4,
  "nbformat_minor": 0,
  "metadata": {
    "colab": {
      "provenance": []
    },
    "kernelspec": {
      "name": "python3",
      "display_name": "Python 3"
    },
    "language_info": {
      "name": "python"
    }
  },
  "cells": [
    {
      "cell_type": "markdown",
      "source": [
        "#Ejercicio 2"
      ],
      "metadata": {
        "id": "5jP6qbCABu1y"
      }
    },
    {
      "cell_type": "markdown",
      "source": [
        "El Ministerio de Turismo y Deportes de la Nación permite explorar\n",
        "tableros de información en línea tableros.yvera.tur.ar. Explore la página y utilizando una librería de web scraping extraiga los valores del tablero de indicadores de Objetivos de Desarrollo Sostenible en una tabla y el texto limpio de la metodología de los mismos.\n"
      ],
      "metadata": {
        "id": "4-_qH85BLDT6"
      }
    },
    {
      "cell_type": "code",
      "source": [
        "!pip install pytesseract"
      ],
      "metadata": {
        "colab": {
          "base_uri": "https://localhost:8080/"
        },
        "id": "kM7GDFRDys1k",
        "outputId": "9309ab69-4f06-4a1b-a408-7d47a55beea8"
      },
      "execution_count": null,
      "outputs": [
        {
          "output_type": "stream",
          "name": "stdout",
          "text": [
            "Collecting pytesseract\n",
            "  Downloading pytesseract-0.3.10-py3-none-any.whl (14 kB)\n",
            "Requirement already satisfied: packaging>=21.3 in /usr/local/lib/python3.10/dist-packages (from pytesseract) (24.0)\n",
            "Requirement already satisfied: Pillow>=8.0.0 in /usr/local/lib/python3.10/dist-packages (from pytesseract) (9.4.0)\n",
            "Installing collected packages: pytesseract\n",
            "Successfully installed pytesseract-0.3.10\n"
          ]
        }
      ]
    },
    {
      "cell_type": "code",
      "execution_count": null,
      "metadata": {
        "id": "Yg4IpExmkMq1"
      },
      "outputs": [],
      "source": [
        "import lxml\n",
        "from PIL import Image\n",
        "import pytesseract\n",
        "from urllib.parse import urljoin\n",
        "from io import BytesIO\n",
        "import urllib"
      ]
    },
    {
      "cell_type": "markdown",
      "source": [
        "### Tabla de objetivos"
      ],
      "metadata": {
        "id": "mpphwR5TXX2E"
      }
    },
    {
      "cell_type": "code",
      "source": [
        "import requests\n",
        "from bs4 import BeautifulSoup\n",
        "import urllib3\n",
        "from tabulate import tabulate\n",
        "\n",
        "# Desactivar las advertencias de solicitudes inseguras\n",
        "urllib3.disable_warnings(urllib3.exceptions.InsecureRequestWarning)\n",
        "\n",
        "url = \"https://tableros.yvera.tur.ar/tablero_ODS/\"\n",
        "\n",
        "response = requests.get(url, verify=False)\n",
        "soup = BeautifulSoup(response.text, 'html.parser')\n",
        "\n",
        "# Encontrar todos los elementos <p> con estilo 'font-size: 160%;'\n",
        "values_160 = soup.find_all('p', {'style': 'font-size: 160%;'})\n",
        "\n",
        "# Encontrar todos los elementos <p> con estilo 'font-size: 140%;'\n",
        "indicators_140 = soup.find_all('p', {'style': 'font-size: 140%;'})\n",
        "\n",
        "# Encontrar todos los elementos <p> con estilo 'font-size: 240%;'\n",
        "values_240 = soup.find_all('p', {'style': 'font-size: 240%;'})\n",
        "\n",
        "# Encontrar todos los elementos <p> con estilo 'font-size: 110%;'\n",
        "indicators_110 = soup.find_all('p', {'style': 'font-size: 110%;'})\n",
        "\n",
        "# Encontrar todos los elementos <p> con estilo 'font-size: 90%;'\n",
        "values_90 = soup.find_all('p', {'style': 'font-size: 90%;'})\n",
        "\n",
        "# Encontrar todos los elementos <p> con estilo 'font-size: 120%;'\n",
        "indicators_120 = soup.find_all('p', {'style': 'font-size: 120%;'})\n",
        "\n",
        "# Imprimir los valores de los indicadores junto con sus respectivos nombres\n",
        "# for value, indicator in zip(values_160, indicators_140):\n",
        "#     print(value.get_text(strip=True), indicator.get_text(strip=True))\n",
        "\n",
        "# for value, indicator in zip(values_240, indicators_110):\n",
        "#     print(value.get_text(strip=True), indicator.get_text(strip=True))\n",
        "\n",
        "# for value, indicator in zip(values_90, indicators_120):\n",
        "#     print(value.get_text(strip=True), indicator.get_text(strip=True))\n",
        "\n",
        "# Construir una lista de tuplas con valores e indicadores\n",
        "data = []\n",
        "for value, indicator in zip(values_160, indicators_140):\n",
        "    data.append((value.get_text(strip=True), indicator.get_text(strip=True)))\n",
        "\n",
        "for value, indicator in zip(values_240, indicators_110):\n",
        "    data.append((value.get_text(strip=True), indicator.get_text(strip=True)))\n",
        "\n",
        "for value, indicator in zip(values_90, indicators_120):\n",
        "    data.append((value.get_text(strip=True), indicator.get_text(strip=True)))\n",
        "\n",
        "# Imprimir la tabla\n",
        "print(tabulate(data, tablefmt=\"grid\"))"
      ],
      "metadata": {
        "colab": {
          "base_uri": "https://localhost:8080/"
        },
        "id": "91BiGP10XbpN",
        "outputId": "1508dc24-d168-4547-c366-a16fafc0f1dc"
      },
      "execution_count": null,
      "outputs": [
        {
          "output_type": "stream",
          "name": "stdout",
          "text": [
            "+--------+-------------------------------------------------------------+\n",
            "| 1,2 M  | Puestos de trabajo en industrias turísticas (2022)          |\n",
            "+--------+-------------------------------------------------------------+\n",
            "| 44,43% | Tasa de informalidad del empleo asalariado turístico (2022) |\n",
            "+--------+-------------------------------------------------------------+\n",
            "| 1,68%  | PIB turístico respecto del PIB total (2022)                 |\n",
            "+--------+-------------------------------------------------------------+\n",
            "| 33,2%  | Propensión a viajar (2022)                                  |\n",
            "+--------+-------------------------------------------------------------+\n",
            "| 34,1   | Índice de Gini de viajes turísticos (2022)                  |\n",
            "+--------+-------------------------------------------------------------+\n",
            "| 36,4   | Índice de Gini de viajes turísticos de ocio (2022)          |\n",
            "+--------+-------------------------------------------------------------+\n",
            "| 44,1   | Índice de Gini del gasto turístico (2022)                   |\n",
            "+--------+-------------------------------------------------------------+\n"
          ]
        }
      ]
    },
    {
      "cell_type": "markdown",
      "source": [
        "### Metodología"
      ],
      "metadata": {
        "id": "g-CkPQr4XPoc"
      }
    },
    {
      "cell_type": "code",
      "source": [
        "# Desactivar las advertencias de solicitudes inseguras\n",
        "urllib3.disable_warnings(urllib3.exceptions.InsecureRequestWarning)\n",
        "\n",
        "url = \"https://tableros.yvera.tur.ar/tablero_ODS/\"\n",
        "\n",
        "response = requests.get(url, verify=False)\n",
        "soup = BeautifulSoup(response.text, 'html.parser')\n",
        "\n",
        "# Localizamos el elemento que contiene la metodologia.\n",
        "metodologia = soup.find('div', {'id': 'shiny-tab-metodologia'})\n",
        "\n",
        "paragraphs = metodologia.find_all('p')\n",
        "\n",
        "# Concatenar el texto de los párrafos\n",
        "texto_metodologia = '\\n'.join(paragraph.get_text(strip=True) for paragraph in paragraphs)\n",
        "print(texto_metodologia)"
      ],
      "metadata": {
        "colab": {
          "base_uri": "https://localhost:8080/"
        },
        "id": "iMpw9EsBLsyY",
        "outputId": "02a7e4e9-442c-434a-8296-a77768b70e1d"
      },
      "execution_count": null,
      "outputs": [
        {
          "output_type": "stream",
          "name": "stdout",
          "text": [
            "El tablero presenta un conjunto de indicadores que buscan reflejar el aporte del \n",
            "                                turismo a los Objetivos de Desarrollo Sostenible (ODS) para nuestro país. El Documento de Trabajo \n",
            "                                N°12: El turismo en los Objetivos de Desarrollo Sostenible aborda esta propuesta y describe en detalle las fuentas utilizadas y los indicadores elaborados\n",
            "Los indicadores que reflejan el aporte del turismo a la economía en su conjunto en términos de actividad \n",
            "                                económica y empleo, y la tasa de informalidad de éste, provienen de laCuenta Satélite de Turismo de Argentina (CST-A). El resto de los indicadores, que buscan medir el acceso al turismo y su nivel de desigualdad,\n",
            "                                toman como fuente de los datos a laEncuesta de Viajes y Turismo de los Hogares (EVyTH), representativa de los grandes aglomerados del país.\n",
            "• Puestos de trabajo en industrias turísticas: Surge de la suma de los puestos de trabajo existentes en\n",
            "                                               los establecimientos pertenecientes a las ramas de actividad clasificadas como características del turismo. \n",
            "                                               Incluye puestos de trabajo asalariados (registrados y no registrados) y no asalariados.• Tasa de informalidad en el empleo asalariado turístico: Proporción de puestos de trabajo asalariados no registrados\n",
            "                                               con respecto al total de puestos de trabajo asalariados, en porcentaje, para ramas características del turismo.• PIB turístico respecto del PIB total: la parte del PIB de la economía total atribuible directamente\n",
            "                                        al consumo turístico realizado dentro de la Argentina, ya sea por visitantes residentes o no residentes, como porcentaje del PIB total.• Propensión a viajar: Proporción de la población que realizó al menos un viaje con pernocte durante el año de referencia.• Índice de Gini de viajes turísticos: Medida de desigualdad habitual, aplicada a la cantidad total de viajes turísticos \n",
            "                                               realizados según quintil de ingresos de los hogares. Valores más cercanos a 0 implican mayor igualdad, mientras que valores más próximos a 100 reflejan una mayor desigualdad en la distribución de los viajes turísticos según ingresos de la población.• Índice de Gini de viajes turísticos de ocio: El indicador, en este caso, tiene en cuenta únicamente los viajes con motivo de 'esparcimiento, ocio y recreación',\n",
            "                                               excluyéndose aquellos relacionados con la visita a familiares y amigos; trabajo, negocios, motivos profesionales; y otros.• Índice de Gini del gasto turístico: Medida de desigualdad aplicada al gasto que los hogares tuvieron en el viaje, según quintil \n",
            "                                               de ingresos de los hogares.\n",
            "• Puestos de trabajo en industrias turísticas: Surge de la suma de los puestos de trabajo existentes en\n",
            "                                               los establecimientos pertenecientes a las ramas de actividad clasificadas como características del turismo. \n",
            "                                               Incluye puestos de trabajo asalariados (registrados y no registrados) y no asalariados.\n",
            "• Tasa de informalidad en el empleo asalariado turístico: Proporción de puestos de trabajo asalariados no registrados\n",
            "                                               con respecto al total de puestos de trabajo asalariados, en porcentaje, para ramas características del turismo.\n",
            "• PIB turístico respecto del PIB total: la parte del PIB de la economía total atribuible directamente\n",
            "                                        al consumo turístico realizado dentro de la Argentina, ya sea por visitantes residentes o no residentes, como porcentaje del PIB total.\n",
            "• Propensión a viajar: Proporción de la población que realizó al menos un viaje con pernocte durante el año de referencia.\n",
            "• Índice de Gini de viajes turísticos: Medida de desigualdad habitual, aplicada a la cantidad total de viajes turísticos \n",
            "                                               realizados según quintil de ingresos de los hogares. Valores más cercanos a 0 implican mayor igualdad, mientras que valores más próximos a 100 reflejan una mayor desigualdad en la distribución de los viajes turísticos según ingresos de la población.\n",
            "• Índice de Gini de viajes turísticos de ocio: El indicador, en este caso, tiene en cuenta únicamente los viajes con motivo de 'esparcimiento, ocio y recreación',\n",
            "                                               excluyéndose aquellos relacionados con la visita a familiares y amigos; trabajo, negocios, motivos profesionales; y otros.\n",
            "• Índice de Gini del gasto turístico: Medida de desigualdad aplicada al gasto que los hogares tuvieron en el viaje, según quintil \n",
            "                                               de ingresos de los hogares.\n"
          ]
        }
      ]
    },
    {
      "cell_type": "markdown",
      "source": [
        "# Ejercicio 7"
      ],
      "metadata": {
        "id": "JJ_-89VdB8se"
      }
    },
    {
      "cell_type": "code",
      "source": [
        "!pip install pytesseract\n",
        "!apt install tesseract-ocr\n",
        "!apt install tesseract-ocr-spa"
      ],
      "metadata": {
        "colab": {
          "base_uri": "https://localhost:8080/"
        },
        "id": "Hfv0Sh6E7_Ra",
        "outputId": "27b70d4a-9ff5-473a-c165-5d018506dd74"
      },
      "execution_count": null,
      "outputs": [
        {
          "output_type": "stream",
          "name": "stdout",
          "text": [
            "Requirement already satisfied: pytesseract in /usr/local/lib/python3.10/dist-packages (0.3.10)\n",
            "Requirement already satisfied: packaging>=21.3 in /usr/local/lib/python3.10/dist-packages (from pytesseract) (24.0)\n",
            "Requirement already satisfied: Pillow>=8.0.0 in /usr/local/lib/python3.10/dist-packages (from pytesseract) (9.4.0)\n",
            "Reading package lists... Done\n",
            "Building dependency tree... Done\n",
            "Reading state information... Done\n",
            "The following additional packages will be installed:\n",
            "  tesseract-ocr-eng tesseract-ocr-osd\n",
            "The following NEW packages will be installed:\n",
            "  tesseract-ocr tesseract-ocr-eng tesseract-ocr-osd\n",
            "0 upgraded, 3 newly installed, 0 to remove and 45 not upgraded.\n",
            "Need to get 4,816 kB of archives.\n",
            "After this operation, 15.6 MB of additional disk space will be used.\n",
            "Get:1 http://archive.ubuntu.com/ubuntu jammy/universe amd64 tesseract-ocr-eng all 1:4.00~git30-7274cfa-1.1 [1,591 kB]\n",
            "Get:2 http://archive.ubuntu.com/ubuntu jammy/universe amd64 tesseract-ocr-osd all 1:4.00~git30-7274cfa-1.1 [2,990 kB]\n",
            "Get:3 http://archive.ubuntu.com/ubuntu jammy/universe amd64 tesseract-ocr amd64 4.1.1-2.1build1 [236 kB]\n",
            "Fetched 4,816 kB in 3s (1,735 kB/s)\n",
            "Selecting previously unselected package tesseract-ocr-eng.\n",
            "(Reading database ... 121752 files and directories currently installed.)\n",
            "Preparing to unpack .../tesseract-ocr-eng_1%3a4.00~git30-7274cfa-1.1_all.deb ...\n",
            "Unpacking tesseract-ocr-eng (1:4.00~git30-7274cfa-1.1) ...\n",
            "Selecting previously unselected package tesseract-ocr-osd.\n",
            "Preparing to unpack .../tesseract-ocr-osd_1%3a4.00~git30-7274cfa-1.1_all.deb ...\n",
            "Unpacking tesseract-ocr-osd (1:4.00~git30-7274cfa-1.1) ...\n",
            "Selecting previously unselected package tesseract-ocr.\n",
            "Preparing to unpack .../tesseract-ocr_4.1.1-2.1build1_amd64.deb ...\n",
            "Unpacking tesseract-ocr (4.1.1-2.1build1) ...\n",
            "Setting up tesseract-ocr-eng (1:4.00~git30-7274cfa-1.1) ...\n",
            "Setting up tesseract-ocr-osd (1:4.00~git30-7274cfa-1.1) ...\n",
            "Setting up tesseract-ocr (4.1.1-2.1build1) ...\n",
            "Processing triggers for man-db (2.10.2-1) ...\n",
            "Reading package lists... Done\n",
            "Building dependency tree... Done\n",
            "Reading state information... Done\n",
            "The following NEW packages will be installed:\n",
            "  tesseract-ocr-spa\n",
            "0 upgraded, 1 newly installed, 0 to remove and 45 not upgraded.\n",
            "Need to get 951 kB of archives.\n",
            "After this operation, 2,309 kB of additional disk space will be used.\n",
            "Get:1 http://archive.ubuntu.com/ubuntu jammy/universe amd64 tesseract-ocr-spa all 1:4.00~git30-7274cfa-1.1 [951 kB]\n",
            "Fetched 951 kB in 2s (561 kB/s)\n",
            "Selecting previously unselected package tesseract-ocr-spa.\n",
            "(Reading database ... 121799 files and directories currently installed.)\n",
            "Preparing to unpack .../tesseract-ocr-spa_1%3a4.00~git30-7274cfa-1.1_all.deb ...\n",
            "Unpacking tesseract-ocr-spa (1:4.00~git30-7274cfa-1.1) ...\n",
            "Setting up tesseract-ocr-spa (1:4.00~git30-7274cfa-1.1) ...\n"
          ]
        }
      ]
    },
    {
      "cell_type": "markdown",
      "source": [
        "En la siguiente carpeta,\n",
        "https://drive.google.com/drive/folders/1iCiOQ8P8CHFFLKiWc2li9-x3Ud-Tl0po?usp=drive_link\n",
        "podrá descargar recursos que presentan algunos desafios para la extracción de\n",
        "texto. Practique los códigos y librerías propuestos en la Unidad 1 y compare los\n",
        "resultados con sus compañer@s."
      ],
      "metadata": {
        "id": "aIGTBMsgLU7z"
      }
    },
    {
      "cell_type": "markdown",
      "source": [
        "### Libro 1: William S. Cleveland-Visualizing data-Hobart Press (1993)\n",
        "\n",
        "Link: https://drive.google.com/file/d/1NIIshJdqmRMTZXse2MHi5w97Ka9imIes/view?usp=sharing"
      ],
      "metadata": {
        "id": "MOswCJ2CIHOF"
      }
    },
    {
      "cell_type": "code",
      "source": [
        "!pip install PyPDF2"
      ],
      "metadata": {
        "colab": {
          "base_uri": "https://localhost:8080/"
        },
        "id": "2_3bLJ4-I_xN",
        "outputId": "c1ed5f05-c1bb-4b55-a291-e9729e4b42c5"
      },
      "execution_count": null,
      "outputs": [
        {
          "output_type": "stream",
          "name": "stdout",
          "text": [
            "Collecting PyPDF2\n",
            "  Downloading pypdf2-3.0.1-py3-none-any.whl (232 kB)\n",
            "\u001b[?25l     \u001b[90m━━━━━━━━━━━━━━━━━━━━━━━━━━━━━━━━━━━━━━━━\u001b[0m \u001b[32m0.0/232.6 kB\u001b[0m \u001b[31m?\u001b[0m eta \u001b[36m-:--:--\u001b[0m\r\u001b[2K     \u001b[91m━━━━━━━━━━━━━━\u001b[0m\u001b[90m╺\u001b[0m\u001b[90m━━━━━━━━━━━━━━━━━━━━━━━━━\u001b[0m \u001b[32m81.9/232.6 kB\u001b[0m \u001b[31m2.4 MB/s\u001b[0m eta \u001b[36m0:00:01\u001b[0m\r\u001b[2K     \u001b[90m━━━━━━━━━━━━━━━━━━━━━━━━━━━━━━━━━━━━━━━━\u001b[0m \u001b[32m232.6/232.6 kB\u001b[0m \u001b[31m4.0 MB/s\u001b[0m eta \u001b[36m0:00:00\u001b[0m\n",
            "\u001b[?25hInstalling collected packages: PyPDF2\n",
            "Successfully installed PyPDF2-3.0.1\n"
          ]
        }
      ]
    },
    {
      "cell_type": "code",
      "source": [
        "import PyPDF2\n",
        "\n",
        "# Abre el archivo en modo binario de lectura ('rb')\n",
        "with open('William S. Cleveland-Visualizing data-Hobart Press (1993).pdf', 'rb') as archivo:\n",
        "    # Crea un objeto PdfFileReader\n",
        "    lector = PyPDF2.PdfReader(archivo)\n",
        "\n",
        "    # Inicializa una cadena vacía para almacenar el texto\n",
        "    texto = ''\n",
        "\n",
        "    # Solo voy a obtener la pagina 8 para que no sea tan largo\n",
        "    # Obtiene la página 8 del PDF (indico 8 porque empieza en 0)\n",
        "    pagina = lector.pages[7]\n",
        "\n",
        "    # Extrae el texto de la página y lo añade a la cadena de texto\n",
        "    texto += pagina.extract_text ()\n",
        "\n",
        "# Imprime el texto extraído\n",
        "print(texto)"
      ],
      "metadata": {
        "id": "u_0cSOV4B8Cq"
      },
      "execution_count": null,
      "outputs": []
    },
    {
      "cell_type": "markdown",
      "source": [
        "### Libro 2: (INTRODUCTION TO THE THEORY OF STATISTICS) Alexander, Franklin Graybill and Duane Boes Mood - Introduccion a la teoria de la Estadistica-Aguilar (1969)\n",
        "\n",
        "Link: https://drive.google.com/file/d/1u1BB7kY95g0Jl7l1GRXoQ4ozXzaZShWZ/view?usp=sharing"
      ],
      "metadata": {
        "id": "c_Y_ncFXL-h-"
      }
    },
    {
      "cell_type": "code",
      "source": [
        "!pip install pdf2image\n",
        "!apt-get install -y poppler-utils"
      ],
      "metadata": {
        "colab": {
          "base_uri": "https://localhost:8080/"
        },
        "id": "TnB8igOLL9VK",
        "outputId": "d06325dc-4052-44be-c098-1aa1a81a75d1"
      },
      "execution_count": null,
      "outputs": [
        {
          "output_type": "stream",
          "name": "stdout",
          "text": [
            "Collecting pdf2image\n",
            "  Downloading pdf2image-1.17.0-py3-none-any.whl (11 kB)\n",
            "Requirement already satisfied: pillow in /usr/local/lib/python3.10/dist-packages (from pdf2image) (9.4.0)\n",
            "Installing collected packages: pdf2image\n",
            "Successfully installed pdf2image-1.17.0\n",
            "Reading package lists... Done\n",
            "Building dependency tree... Done\n",
            "Reading state information... Done\n",
            "The following NEW packages will be installed:\n",
            "  poppler-utils\n",
            "0 upgraded, 1 newly installed, 0 to remove and 45 not upgraded.\n",
            "Need to get 186 kB of archives.\n",
            "After this operation, 696 kB of additional disk space will be used.\n",
            "Get:1 http://archive.ubuntu.com/ubuntu jammy-updates/main amd64 poppler-utils amd64 22.02.0-2ubuntu0.3 [186 kB]\n",
            "Fetched 186 kB in 1s (364 kB/s)\n",
            "Selecting previously unselected package poppler-utils.\n",
            "(Reading database ... 121804 files and directories currently installed.)\n",
            "Preparing to unpack .../poppler-utils_22.02.0-2ubuntu0.3_amd64.deb ...\n",
            "Unpacking poppler-utils (22.02.0-2ubuntu0.3) ...\n",
            "Setting up poppler-utils (22.02.0-2ubuntu0.3) ...\n",
            "Processing triggers for man-db (2.10.2-1) ...\n"
          ]
        }
      ]
    },
    {
      "cell_type": "code",
      "source": [
        "from pdf2image import convert_from_path\n",
        "\n",
        "# Ruta al archivo PDF\n",
        "archivo_pdf = '(INTRODUCTION TO THE THEORY OF STATISTICS) Alexander, Franklin Graybill and Duane Boes Mood - Introduccion a la teoria de la Estadistica-Aguilar (1969).pdf'\n",
        "\n",
        "# Convierte el PDF en una lista de imágenes\n",
        "# Esto me va a guardar sólo la pagina 10 para que no sea tan largo\n",
        "imagen = convert_from_path(archivo_pdf, first_page=10, last_page=10)[0]\n",
        "\n",
        "imagen.save('pagina10.png', 'PNG')\n"
      ],
      "metadata": {
        "id": "CDjWTRLGMmYh"
      },
      "execution_count": null,
      "outputs": []
    },
    {
      "cell_type": "code",
      "source": [
        "# Ruta a la imagen\n",
        "archivo_imagen = 'pagina10.png'\n",
        "\n",
        "# Abre la imagen\n",
        "imagen = Image.open(archivo_imagen)\n",
        "\n",
        "# Usa pytesseract para convertir la imagen en texto\n",
        "# Podemos especificar los idiomas posibles del documento:\n",
        "texto = pytesseract.image_to_string(imagen, lang=\"spa\")\n",
        "\n",
        "# Imprime el texto extraído\n",
        "print(texto)"
      ],
      "metadata": {
        "colab": {
          "base_uri": "https://localhost:8080/"
        },
        "id": "xNXOU09bNbyo",
        "outputId": "cea917b3-ce98-47c1-8c12-2ab4f5fdc19c"
      },
      "execution_count": null,
      "outputs": [
        {
          "output_type": "stream",
          "name": "stdout",
          "text": [
            "PREFACIO DE LOS AUTORES\n",
            "A LA SEGUNDA EDICION\n",
            "\n",
            "Dado que la primera edición de esta obra se publicó en 1950,\n",
            "muchas nuevas técnicas estadísticas se han creado desde entonces,\n",
            "y muchas otras, que eran solo del dominio de los estadísticos ma-\n",
            "temáticos, se conocen y utilizan ahora por los estadísticos aplicados.\n",
            "Para incluir parte de este material hemos tenido que eliminar otro,\n",
            "con el fin de no aumentar excesivamente el volumen del libro. El\n",
            "propósito general de exponer la teoría en conexión con problemas\n",
            "prácticos concretos contribuyó, aparentemente en gran medida, al\n",
            "éxito de la primera edición, y hemos procurado mantenerlo en la\n",
            "presente.\n",
            "\n",
            "Para estudiar este libro no es preciso haber seguido un curso\n",
            "previo de estadística. La preparación matemática necesaria es la\n",
            "usual en un primer curso de cálculo. Aunque no esencial, es deseable\n",
            "poseer algún conocimiento de la aritmética de matrices; por otra\n",
            "parte, en el capítulo 9 se hace una breve introducción de las opera-\n",
            "ciones necesarias. Se han señalado con asterisco algunas de las seccio-\n",
            "nes que utilizan recursos de álgebra matricial y que pueden omitirse\n",
            "sin interrumpir la continuidad del libro.\n",
            "\n",
            "Los autores se sienten en deuda con el profesor Herman Chernoff,\n",
            "que dedicó mucho tiempo a revisar a fondo gran parte del manuscrito,\n",
            "incluso redactando de nuevo varias secciones.\n",
            "\n",
            "También expresamos nuestra gratitud al Dr. David Weeks, que\n",
            "leyó la totalidad del manuscrito; a Terrence Connell, William Owen\n",
            "y Scott Urquhart, que nos ayudaron en la corrección de pruebas;\n",
            "así como a los doctores James Pachares y Leon Harter y a los\n",
            "directores de Biometrika por su amable autorización para reproducir\n",
            "determinado material en las tablas VI, VII y VIH.\n",
            "\n",
            "ALEXANDER M. Moop.\n",
            "FRANKLIN A. GRAYBILL.\n",
            "\f\n"
          ]
        }
      ]
    },
    {
      "cell_type": "markdown",
      "source": [
        "### Libro 3: dokumen.tips_tecnicas-muestreo-cochran-parte1pdf.pdf\n",
        "\n",
        "Link: https://drive.google.com/file/d/1yXdAZV8nPEIUH0agfsgSa1SNsZiC4vw9/view?usp=sharing"
      ],
      "metadata": {
        "id": "kbhwy34F7n_p"
      }
    },
    {
      "cell_type": "code",
      "source": [
        "!pip install EasyOCR"
      ],
      "metadata": {
        "colab": {
          "base_uri": "https://localhost:8080/"
        },
        "id": "3GDAf04aQGVF",
        "outputId": "7ec48e65-c3bf-447e-94a9-6b6e1ef4b2e8"
      },
      "execution_count": null,
      "outputs": [
        {
          "output_type": "stream",
          "name": "stdout",
          "text": [
            "Collecting EasyOCR\n",
            "  Downloading easyocr-1.7.1-py3-none-any.whl (2.9 MB)\n",
            "\u001b[?25l     \u001b[90m━━━━━━━━━━━━━━━━━━━━━━━━━━━━━━━━━━━━━━━━\u001b[0m \u001b[32m0.0/2.9 MB\u001b[0m \u001b[31m?\u001b[0m eta \u001b[36m-:--:--\u001b[0m\r\u001b[2K     \u001b[91m━━━━━━\u001b[0m\u001b[90m╺\u001b[0m\u001b[90m━━━━━━━━━━━━━━━━━━━━━━━━━━━━━━━━━\u001b[0m \u001b[32m0.5/2.9 MB\u001b[0m \u001b[31m13.7 MB/s\u001b[0m eta \u001b[36m0:00:01\u001b[0m\r\u001b[2K     \u001b[91m━━━━━━━━━━━━━━━━━━━━━━━━━━━━━━━━━━━━━━━\u001b[0m\u001b[91m╸\u001b[0m \u001b[32m2.9/2.9 MB\u001b[0m \u001b[31m46.4 MB/s\u001b[0m eta \u001b[36m0:00:01\u001b[0m\r\u001b[2K     \u001b[90m━━━━━━━━━━━━━━━━━━━━━━━━━━━━━━━━━━━━━━━━\u001b[0m \u001b[32m2.9/2.9 MB\u001b[0m \u001b[31m28.5 MB/s\u001b[0m eta \u001b[36m0:00:00\u001b[0m\n",
            "\u001b[?25hRequirement already satisfied: torch in /usr/local/lib/python3.10/dist-packages (from EasyOCR) (2.2.1+cu121)\n",
            "Requirement already satisfied: torchvision>=0.5 in /usr/local/lib/python3.10/dist-packages (from EasyOCR) (0.17.1+cu121)\n",
            "Requirement already satisfied: opencv-python-headless in /usr/local/lib/python3.10/dist-packages (from EasyOCR) (4.9.0.80)\n",
            "Requirement already satisfied: scipy in /usr/local/lib/python3.10/dist-packages (from EasyOCR) (1.11.4)\n",
            "Requirement already satisfied: numpy in /usr/local/lib/python3.10/dist-packages (from EasyOCR) (1.25.2)\n",
            "Requirement already satisfied: Pillow in /usr/local/lib/python3.10/dist-packages (from EasyOCR) (9.4.0)\n",
            "Requirement already satisfied: scikit-image in /usr/local/lib/python3.10/dist-packages (from EasyOCR) (0.19.3)\n",
            "Collecting python-bidi (from EasyOCR)\n",
            "  Downloading python_bidi-0.4.2-py2.py3-none-any.whl (30 kB)\n",
            "Requirement already satisfied: PyYAML in /usr/local/lib/python3.10/dist-packages (from EasyOCR) (6.0.1)\n",
            "Requirement already satisfied: Shapely in /usr/local/lib/python3.10/dist-packages (from EasyOCR) (2.0.3)\n",
            "Collecting pyclipper (from EasyOCR)\n",
            "  Downloading pyclipper-1.3.0.post5-cp310-cp310-manylinux_2_12_x86_64.manylinux2010_x86_64.whl (908 kB)\n",
            "\u001b[2K     \u001b[90m━━━━━━━━━━━━━━━━━━━━━━━━━━━━━━━━━━━━━━━━\u001b[0m \u001b[32m908.3/908.3 kB\u001b[0m \u001b[31m34.5 MB/s\u001b[0m eta \u001b[36m0:00:00\u001b[0m\n",
            "\u001b[?25hCollecting ninja (from EasyOCR)\n",
            "  Downloading ninja-1.11.1.1-py2.py3-none-manylinux1_x86_64.manylinux_2_5_x86_64.whl (307 kB)\n",
            "\u001b[2K     \u001b[90m━━━━━━━━━━━━━━━━━━━━━━━━━━━━━━━━━━━━━━━━\u001b[0m \u001b[32m307.2/307.2 kB\u001b[0m \u001b[31m25.7 MB/s\u001b[0m eta \u001b[36m0:00:00\u001b[0m\n",
            "\u001b[?25hRequirement already satisfied: filelock in /usr/local/lib/python3.10/dist-packages (from torch->EasyOCR) (3.13.3)\n",
            "Requirement already satisfied: typing-extensions>=4.8.0 in /usr/local/lib/python3.10/dist-packages (from torch->EasyOCR) (4.10.0)\n",
            "Requirement already satisfied: sympy in /usr/local/lib/python3.10/dist-packages (from torch->EasyOCR) (1.12)\n",
            "Requirement already satisfied: networkx in /usr/local/lib/python3.10/dist-packages (from torch->EasyOCR) (3.2.1)\n",
            "Requirement already satisfied: jinja2 in /usr/local/lib/python3.10/dist-packages (from torch->EasyOCR) (3.1.3)\n",
            "Requirement already satisfied: fsspec in /usr/local/lib/python3.10/dist-packages (from torch->EasyOCR) (2023.6.0)\n",
            "Collecting nvidia-cuda-nvrtc-cu12==12.1.105 (from torch->EasyOCR)\n",
            "  Downloading nvidia_cuda_nvrtc_cu12-12.1.105-py3-none-manylinux1_x86_64.whl (23.7 MB)\n",
            "\u001b[2K     \u001b[90m━━━━━━━━━━━━━━━━━━━━━━━━━━━━━━━━━━━━━━━━\u001b[0m \u001b[32m23.7/23.7 MB\u001b[0m \u001b[31m27.6 MB/s\u001b[0m eta \u001b[36m0:00:00\u001b[0m\n",
            "\u001b[?25hCollecting nvidia-cuda-runtime-cu12==12.1.105 (from torch->EasyOCR)\n",
            "  Downloading nvidia_cuda_runtime_cu12-12.1.105-py3-none-manylinux1_x86_64.whl (823 kB)\n",
            "\u001b[2K     \u001b[90m━━━━━━━━━━━━━━━━━━━━━━━━━━━━━━━━━━━━━━━━\u001b[0m \u001b[32m823.6/823.6 kB\u001b[0m \u001b[31m41.9 MB/s\u001b[0m eta \u001b[36m0:00:00\u001b[0m\n",
            "\u001b[?25hCollecting nvidia-cuda-cupti-cu12==12.1.105 (from torch->EasyOCR)\n",
            "  Downloading nvidia_cuda_cupti_cu12-12.1.105-py3-none-manylinux1_x86_64.whl (14.1 MB)\n",
            "\u001b[2K     \u001b[90m━━━━━━━━━━━━━━━━━━━━━━━━━━━━━━━━━━━━━━━━\u001b[0m \u001b[32m14.1/14.1 MB\u001b[0m \u001b[31m43.5 MB/s\u001b[0m eta \u001b[36m0:00:00\u001b[0m\n",
            "\u001b[?25hCollecting nvidia-cudnn-cu12==8.9.2.26 (from torch->EasyOCR)\n",
            "  Downloading nvidia_cudnn_cu12-8.9.2.26-py3-none-manylinux1_x86_64.whl (731.7 MB)\n",
            "\u001b[2K     \u001b[90m━━━━━━━━━━━━━━━━━━━━━━━━━━━━━━━━━━━━━━━━\u001b[0m \u001b[32m731.7/731.7 MB\u001b[0m \u001b[31m1.6 MB/s\u001b[0m eta \u001b[36m0:00:00\u001b[0m\n",
            "\u001b[?25hCollecting nvidia-cublas-cu12==12.1.3.1 (from torch->EasyOCR)\n",
            "  Downloading nvidia_cublas_cu12-12.1.3.1-py3-none-manylinux1_x86_64.whl (410.6 MB)\n",
            "\u001b[2K     \u001b[90m━━━━━━━━━━━━━━━━━━━━━━━━━━━━━━━━━━━━━━━━\u001b[0m \u001b[32m410.6/410.6 MB\u001b[0m \u001b[31m1.7 MB/s\u001b[0m eta \u001b[36m0:00:00\u001b[0m\n",
            "\u001b[?25hCollecting nvidia-cufft-cu12==11.0.2.54 (from torch->EasyOCR)\n",
            "  Downloading nvidia_cufft_cu12-11.0.2.54-py3-none-manylinux1_x86_64.whl (121.6 MB)\n",
            "\u001b[2K     \u001b[90m━━━━━━━━━━━━━━━━━━━━━━━━━━━━━━━━━━━━━━━━\u001b[0m \u001b[32m121.6/121.6 MB\u001b[0m \u001b[31m8.7 MB/s\u001b[0m eta \u001b[36m0:00:00\u001b[0m\n",
            "\u001b[?25hCollecting nvidia-curand-cu12==10.3.2.106 (from torch->EasyOCR)\n",
            "  Downloading nvidia_curand_cu12-10.3.2.106-py3-none-manylinux1_x86_64.whl (56.5 MB)\n",
            "\u001b[2K     \u001b[90m━━━━━━━━━━━━━━━━━━━━━━━━━━━━━━━━━━━━━━━━\u001b[0m \u001b[32m56.5/56.5 MB\u001b[0m \u001b[31m10.4 MB/s\u001b[0m eta \u001b[36m0:00:00\u001b[0m\n",
            "\u001b[?25hCollecting nvidia-cusolver-cu12==11.4.5.107 (from torch->EasyOCR)\n",
            "  Downloading nvidia_cusolver_cu12-11.4.5.107-py3-none-manylinux1_x86_64.whl (124.2 MB)\n",
            "\u001b[2K     \u001b[90m━━━━━━━━━━━━━━━━━━━━━━━━━━━━━━━━━━━━━━━━\u001b[0m \u001b[32m124.2/124.2 MB\u001b[0m \u001b[31m5.6 MB/s\u001b[0m eta \u001b[36m0:00:00\u001b[0m\n",
            "\u001b[?25hCollecting nvidia-cusparse-cu12==12.1.0.106 (from torch->EasyOCR)\n",
            "  Downloading nvidia_cusparse_cu12-12.1.0.106-py3-none-manylinux1_x86_64.whl (196.0 MB)\n",
            "\u001b[2K     \u001b[90m━━━━━━━━━━━━━━━━━━━━━━━━━━━━━━━━━━━━━━━━\u001b[0m \u001b[32m196.0/196.0 MB\u001b[0m \u001b[31m2.7 MB/s\u001b[0m eta \u001b[36m0:00:00\u001b[0m\n",
            "\u001b[?25hCollecting nvidia-nccl-cu12==2.19.3 (from torch->EasyOCR)\n",
            "  Downloading nvidia_nccl_cu12-2.19.3-py3-none-manylinux1_x86_64.whl (166.0 MB)\n",
            "\u001b[2K     \u001b[90m━━━━━━━━━━━━━━━━━━━━━━━━━━━━━━━━━━━━━━━━\u001b[0m \u001b[32m166.0/166.0 MB\u001b[0m \u001b[31m2.3 MB/s\u001b[0m eta \u001b[36m0:00:00\u001b[0m\n",
            "\u001b[?25hCollecting nvidia-nvtx-cu12==12.1.105 (from torch->EasyOCR)\n",
            "  Downloading nvidia_nvtx_cu12-12.1.105-py3-none-manylinux1_x86_64.whl (99 kB)\n",
            "\u001b[2K     \u001b[90m━━━━━━━━━━━━━━━━━━━━━━━━━━━━━━━━━━━━━━━━\u001b[0m \u001b[32m99.1/99.1 kB\u001b[0m \u001b[31m12.9 MB/s\u001b[0m eta \u001b[36m0:00:00\u001b[0m\n",
            "\u001b[?25hRequirement already satisfied: triton==2.2.0 in /usr/local/lib/python3.10/dist-packages (from torch->EasyOCR) (2.2.0)\n",
            "Collecting nvidia-nvjitlink-cu12 (from nvidia-cusolver-cu12==11.4.5.107->torch->EasyOCR)\n",
            "  Downloading nvidia_nvjitlink_cu12-12.4.127-py3-none-manylinux2014_x86_64.whl (21.1 MB)\n",
            "\u001b[2K     \u001b[90m━━━━━━━━━━━━━━━━━━━━━━━━━━━━━━━━━━━━━━━━\u001b[0m \u001b[32m21.1/21.1 MB\u001b[0m \u001b[31m38.3 MB/s\u001b[0m eta \u001b[36m0:00:00\u001b[0m\n",
            "\u001b[?25hRequirement already satisfied: six in /usr/local/lib/python3.10/dist-packages (from python-bidi->EasyOCR) (1.16.0)\n",
            "Requirement already satisfied: imageio>=2.4.1 in /usr/local/lib/python3.10/dist-packages (from scikit-image->EasyOCR) (2.31.6)\n",
            "Requirement already satisfied: tifffile>=2019.7.26 in /usr/local/lib/python3.10/dist-packages (from scikit-image->EasyOCR) (2024.2.12)\n",
            "Requirement already satisfied: PyWavelets>=1.1.1 in /usr/local/lib/python3.10/dist-packages (from scikit-image->EasyOCR) (1.6.0)\n",
            "Requirement already satisfied: packaging>=20.0 in /usr/local/lib/python3.10/dist-packages (from scikit-image->EasyOCR) (24.0)\n",
            "Requirement already satisfied: MarkupSafe>=2.0 in /usr/local/lib/python3.10/dist-packages (from jinja2->torch->EasyOCR) (2.1.5)\n",
            "Requirement already satisfied: mpmath>=0.19 in /usr/local/lib/python3.10/dist-packages (from sympy->torch->EasyOCR) (1.3.0)\n",
            "Installing collected packages: pyclipper, ninja, python-bidi, nvidia-nvtx-cu12, nvidia-nvjitlink-cu12, nvidia-nccl-cu12, nvidia-curand-cu12, nvidia-cufft-cu12, nvidia-cuda-runtime-cu12, nvidia-cuda-nvrtc-cu12, nvidia-cuda-cupti-cu12, nvidia-cublas-cu12, nvidia-cusparse-cu12, nvidia-cudnn-cu12, nvidia-cusolver-cu12, EasyOCR\n",
            "Successfully installed EasyOCR-1.7.1 ninja-1.11.1.1 nvidia-cublas-cu12-12.1.3.1 nvidia-cuda-cupti-cu12-12.1.105 nvidia-cuda-nvrtc-cu12-12.1.105 nvidia-cuda-runtime-cu12-12.1.105 nvidia-cudnn-cu12-8.9.2.26 nvidia-cufft-cu12-11.0.2.54 nvidia-curand-cu12-10.3.2.106 nvidia-cusolver-cu12-11.4.5.107 nvidia-cusparse-cu12-12.1.0.106 nvidia-nccl-cu12-2.19.3 nvidia-nvjitlink-cu12-12.4.127 nvidia-nvtx-cu12-12.1.105 pyclipper-1.3.0.post5 python-bidi-0.4.2\n"
          ]
        }
      ]
    },
    {
      "cell_type": "code",
      "source": [
        "# Ruta al archivo PDF\n",
        "archivo_pdf = 'dokumen.tips_tecnicas-muestreo-cochran-parte1pdf.pdf'\n",
        "\n",
        "# Convierte el PDF en una lista de imágenes\n",
        "# Esto me va a guardar sólo la pagina 18 para que no sea tan largo\n",
        "imagen = convert_from_path(archivo_pdf, first_page=18, last_page=18)[0]\n",
        "\n",
        "imagen.save('pagina18.png', 'PNG')\n",
        "\n",
        "# # Abre el archivo en modo binario de lectura ('rb')\n",
        "# with open(archivo_pdf, 'rb') as archivo:\n",
        "#     # Crea un objeto PdfFileReader\n",
        "#     lector = PyPDF2.PdfReader(archivo)"
      ],
      "metadata": {
        "id": "H8Sg9twe8LGI"
      },
      "execution_count": null,
      "outputs": []
    },
    {
      "cell_type": "code",
      "source": [
        "import numpy as np\n",
        "import easyocr\n",
        "\n",
        "# Como el PDF tiene dos páginas del libro por página, tengo que recuperar la primer mitad de la página y leer eso\n",
        "# Crea un lector OCR en español\n",
        "lector = easyocr.Reader(['es'])\n",
        "\n",
        "# Ruta a la imagen\n",
        "archivo_imagen = 'pagina18.png'\n",
        "\n",
        "# Abre la imagen\n",
        "imagen = Image.open(archivo_imagen)\n",
        "\n",
        "# Calcula las coordenadas de la región de interés (primera mitad de la página 18)\n",
        "ancho, alto = imagen.size\n",
        "coord_x1 = 0\n",
        "coord_y1 = 0\n",
        "coord_x2 = ancho // 2\n",
        "coord_y2 = alto\n",
        "\n",
        "# Recorta la imagen para obtener la primera mitad de la página\n",
        "region_interes = imagen.crop((coord_x1, coord_y1, coord_x2, coord_y2))\n",
        "\n",
        "# Convierte la imagen recortada a un arreglo numpy\n",
        "imagen_np = np.array(region_interes)\n",
        "\n",
        "# Usa EasyOCR para convertir la región de la imagen en texto\n",
        "resultado = lector.readtext(imagen_np, detail=0)\n",
        "\n",
        "# Imprime el texto extraído\n",
        "print(\"Texto extraído de la primera mitad de la página 18:\")\n",
        "print(resultado)\n"
      ],
      "metadata": {
        "colab": {
          "base_uri": "https://localhost:8080/"
        },
        "id": "b07SDPRrPrDb",
        "outputId": "166dfd96-90bd-4200-8344-3db7ef932dd4"
      },
      "execution_count": null,
      "outputs": [
        {
          "output_type": "stream",
          "name": "stderr",
          "text": [
            "WARNING:easyocr.easyocr:Neither CUDA nor MPS are available - defaulting to CPU. Note: This module is much faster with a GPU.\n"
          ]
        },
        {
          "output_type": "stream",
          "name": "stdout",
          "text": [
            "Texto extraído de la primera mitad de la página 18:\n",
            "['42', 'TECNICAS', 'DE', 'MUESTREO', 'factible:', 'cada extracción todos los N miembros de la', 'reciben la misma oportunidad de extracción,', 'poblaciór', 'mero de veces', 'se', 'sin que importe el', 'que', 'extrajeron antes.', 'fórmulas de varianza', 'Y varianzas estimadas de las estimaciones realizadas', 'muestra', 'son', 'a menudo más', 'a', 'partir de Iz', 'simples cuando el muestreo es', 'con', 'res', 'titución que en el caso contrario. Por esta razón,', 'treo', 'con', 'restitución', 'se utiliza el mues', 'en los planes', 'de muestreo', 'más', 'aunque', 'primera vista parece inútil tener dos', 'complicados', 'unidad dentro de la', '0 más veces la misma', 'muestra .', \"1'\", '2.2', 'SELECCION DE UNA MUESTRA ALEATORIA', 'SIMPLE', 'Las tablas de números aleatorios son tablas de los', '2,', '9, donde cada dígito tiene la misma', 'dígitos 0', '1', 'leccionado en', 'cada extracción.', 'probabilidad de', 'ser', 'se-', 'las', 'Entre las tablas más grandes están', 'que publicó la Rand Corporation (1955) con', 'un', 'millón de', 'tos y las de Kendall y Smith', '(1938)', 'dígi-', 'textos   estándar', 'con', '100 00o dígitos. En los', 'de estadística', 'se pueden encontrar muchas', 'tablas', 'La Tabla 2.1 muestra', '1 00O dígitos aleatorios', 'Snedecor y Cochran (1967).', 'y para', 'ilustración, de', 'Cuando se', 'usan estas tablas para seleccionar', 'toria simple, el primer paso es la enumeración', 'una muestra alea-', 'población de', '1', 'a', 'N. Si el primer', 'de las unidades de la', '5 y 9', 'el', 'dígito de N', 'es', 'un número', 'entre', 'siguiente método de selección', 'es el adecuado.', 'N', '528', 'y', 'queremos', '7', '10.', 'Tómense', 'Supóngase', 'bla 2.1, digamos la 25, 26', '27.', 'tres   columnas', 'de la', 'Ta-', 'seleccionando', 'y', 'Recórase hacia abajo cada columna', 'los 10 primeros números  distintos, entre', '001', 'Estos  son', '509, 364, 417, 348, 127, 149,', 'Y 528', 'los dos últimos números', '186, 290 y 162. Para', 'ciones', 'saltamos', 'a las columnas 30 a 32.', 'En selec-', 'repetidas', 'es', 'aconsejable', 'cambiar', 'el', 'punto', 'de   partida', 'en', 'la tabla.', 'La desventaja de este método es que los números', '00O y todos los del 529 a 999 no', 'se', 'de tres dígitos', 'ros', 'no', 'se pierde', 'usan', 'aunque al saltarse núme-', 'menor', '5,', 'mucho tiempo.', 'Cuando el primer dígito de N', 'es', 'que', 'algunos pueden preferir este método si n', 'es', 'y', 'se', 'dispone de', 'una tabla de números', 'pequeño', 'Con N', '128,', 'aleatorios   bastante   grande.', 'chazos', 'por ejemplo, un segundo método', 'con', 'menos', 're-', 'y', 'de más fácil aplicación', 'es', 'el siguiente.', 'En', 'números de', 'tres dígitos se substrae', 'una', 'serie', 'de', 'entre', '200 de todos los números', 'que', '201 y', 'se', 'substrae 400 de todos los números', 'y', '600 de todos los números entre', 'entre 401', '601 y', '800 de todos', 'en', 'nú', 'Las', '36 ,', 'hay', '400,', '600 ,', '800,', 'los']\n"
          ]
        }
      ]
    }
  ]
}